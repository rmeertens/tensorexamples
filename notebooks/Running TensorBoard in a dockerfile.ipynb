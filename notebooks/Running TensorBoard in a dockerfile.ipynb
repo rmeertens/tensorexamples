{
 "cells": [
  {
   "cell_type": "markdown",
   "metadata": {},
   "source": [
    "# Running TensorBoard in a Dockerfile\n",
    "Tenosrboard is one of the most useful tools you can use when training deep neural networks. If you run your TensorFlow experiments from a Dockerfile it's also possible to run Tensorboard in the same dockerfile. Things to keep in mind are: \n",
    "* Make sure your port 6006 is open. If you are running a dockerfile directly, either with a locally defined dockerfile or using an image from the DockerHub, you have to pass the argument `-p 6006:6006` to the command line. You will normally pass `-p 8888:888` already, so simply extend that command so you get `-p 8888:888 -p 6006:6006`. \n",
    "* If you are using docker-compose you should also add port 6006 to the ports in your `docker-compose.yml` file. \n",
    "* You don't have to make a separate Dockerfile for TensorBoard. I used to make this mistake for many years, where I defined a separate Dockerfile for Tensorboard. Turns out you can start tensorboard from a Jupyter notebook or command line later. To do this in a jupyter notebook you have to use the `load_ext tensorboard` command in a cell to start using it. Then visualise TensorBoard in a Jupyter notebook cell using the `%tensorboard --logdir logs --bind_all` command. You only have to execute this command once. Every next time you use this command you will get the `Reusing TensorBoard on port 6006` message, which will just show your current existing tensorboard session. For me killing tensorboard doesn't work, and it required me to restart the whole docker container. \n",
    "* If you get `127.0.0.1 didn’t send any data.` you likely forgot the `--bind_all` command at some point in time. As I mention at my previous point: I simply had to restart my docker container by killing it. Even using the python tools by importing tensorboard (using `from tensorboard import notebook`) I could not make it work. Normally you might be able to run it with a different port, but then you would have to open that one first in your docker container. \n",
    "\n",
    "## TensorBoard example\n",
    "TensorFlow has a great example on how to use their tool, which is described here: https://www.tensorflow.org/tensorboard/tensorboard_in_notebooks. I decided not to copy paste their example code so you won't have to deal with an outdated piece of code in a few years. "
   ]
  },
  {
   "cell_type": "code",
   "execution_count": null,
   "metadata": {},
   "outputs": [],
   "source": []
  }
 ],
 "metadata": {
  "kernelspec": {
   "display_name": "Python 3",
   "language": "python",
   "name": "python3"
  },
  "language_info": {
   "codemirror_mode": {
    "name": "ipython",
    "version": 3
   },
   "file_extension": ".py",
   "mimetype": "text/x-python",
   "name": "python",
   "nbconvert_exporter": "python",
   "pygments_lexer": "ipython3",
   "version": "3.6.9"
  }
 },
 "nbformat": 4,
 "nbformat_minor": 2
}
