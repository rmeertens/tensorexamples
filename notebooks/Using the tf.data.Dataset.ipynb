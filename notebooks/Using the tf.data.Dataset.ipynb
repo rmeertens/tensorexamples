{
 "cells": [
  {
   "cell_type": "markdown",
   "metadata": {},
   "source": [
    "# Using the tf.data.Dataset\n",
    "\n",
    "In Tensorflow 2.0 it's good practice to load your data using the `tf.data.Dataset` API. However, using this isn't always straightforward. There are multiple ways you can create such a dataset. In this article we will look at several of them. \n",
    "\n",
    "For all of these methods we will use the same model and parameters. \n"
   ]
  },
  {
   "cell_type": "code",
   "execution_count": 1,
   "metadata": {},
   "outputs": [
    {
     "name": "stdout",
     "output_type": "stream",
     "text": [
      "The TensorFlow version used in this tutorial is 2.2.0\n"
     ]
    }
   ],
   "source": [
    "import tensorflow as tf\n",
    "import numpy as np\n",
    "import sklearn.metrics\n",
    "\n",
    "print(\"The TensorFlow version used in this tutorial is\", tf.__version__)\n",
    "\n",
    "def get_and_compile_model():\n",
    "    # Define a very simple model\n",
    "    model = tf.keras.models.Sequential([\n",
    "        tf.keras.layers.Input(shape=(28,28)),\n",
    "        tf.keras.layers.Flatten(),\n",
    "        tf.keras.layers.Dense(128,activation='relu'),\n",
    "        tf.keras.layers.Dense(10, activation='softmax')\n",
    "    ])\n",
    "\n",
    "    # Print the summary of the neural network\n",
    "    model.summary()\n",
    "\n",
    "    # Compile the model. You always have to do that after quantizing your weights. \n",
    "    model.compile(\n",
    "        loss='sparse_categorical_crossentropy',\n",
    "        optimizer=tf.keras.optimizers.Adam(0.001),\n",
    "        metrics=['accuracy'],\n",
    "    )\n",
    "    return model\n",
    "\n",
    "#load mnist data we will need in the entirety of this notebook\n",
    "(x_train, y_train), (x_test, y_test) = tf.keras.datasets.mnist.load_data()\n",
    "x_train, x_test = x_train / 255.0, x_test / 255.0 \n",
    "\n",
    "BATCH_SIZE = 32\n",
    "STEPS_PER_EPOCH = len(x_train) // BATCH_SIZE # Note that // means full division without any remainder. It rounds down and becomes an integer"
   ]
  },
  {
   "cell_type": "markdown",
   "metadata": {},
   "source": [
    "## Method 0: Directly feeding a NumPy array\n",
    "Currently, with Keras, it's still possible to directly feed NumPy arrays. "
   ]
  },
  {
   "cell_type": "code",
   "execution_count": 2,
   "metadata": {},
   "outputs": [
    {
     "name": "stdout",
     "output_type": "stream",
     "text": [
      "Model: \"sequential\"\n",
      "_________________________________________________________________\n",
      "Layer (type)                 Output Shape              Param #   \n",
      "=================================================================\n",
      "flatten (Flatten)            (None, 784)               0         \n",
      "_________________________________________________________________\n",
      "dense (Dense)                (None, 128)               100480    \n",
      "_________________________________________________________________\n",
      "dense_1 (Dense)              (None, 10)                1290      \n",
      "=================================================================\n",
      "Total params: 101,770\n",
      "Trainable params: 101,770\n",
      "Non-trainable params: 0\n",
      "_________________________________________________________________\n",
      "Epoch 1/3\n",
      "1875/1875 [==============================] - 5s 2ms/step - loss: 0.2563 - accuracy: 0.9262\n",
      "Epoch 2/3\n",
      "1875/1875 [==============================] - 5s 3ms/step - loss: 0.1138 - accuracy: 0.9663\n",
      "Epoch 3/3\n",
      "1875/1875 [==============================] - 6s 3ms/step - loss: 0.0787 - accuracy: 0.9766\n"
     ]
    },
    {
     "data": {
      "text/plain": [
       "<tensorflow.python.keras.callbacks.History at 0x7f2b0465b128>"
      ]
     },
     "execution_count": 2,
     "metadata": {},
     "output_type": "execute_result"
    }
   ],
   "source": [
    "#load mnist data\n",
    "(x_train, y_train), (x_test, y_test) = tf.keras.datasets.mnist.load_data()\n",
    "\n",
    "# Train for one epoch to establish a baseline. \n",
    "model = get_and_compile_model()\n",
    "model.fit(x_train / 255.0, y_train, batch_size=BATCH_SIZE, epochs=3)\n"
   ]
  },
  {
   "cell_type": "markdown",
   "metadata": {},
   "source": [
    "## Method 1: From a numpy array\n",
    "If your data fits in your memory it's easy to turn your numpy array into a dataset. Having your data in a dataset is also one of the fastest ways to load the data. \n",
    "\n",
    "A common error to get here is `ValueError: When providing an infinite dataset, you must specify the number of steps to run.`. Make sure you specify this by setting `steps_per_epoch` to the number of batches you want to supply during training. Normally this number of batches should roughly cover the entire dataset."
   ]
  },
  {
   "cell_type": "code",
   "execution_count": 3,
   "metadata": {},
   "outputs": [
    {
     "name": "stdout",
     "output_type": "stream",
     "text": [
      "Model: \"sequential_1\"\n",
      "_________________________________________________________________\n",
      "Layer (type)                 Output Shape              Param #   \n",
      "=================================================================\n",
      "flatten_1 (Flatten)          (None, 784)               0         \n",
      "_________________________________________________________________\n",
      "dense_2 (Dense)              (None, 128)               100480    \n",
      "_________________________________________________________________\n",
      "dense_3 (Dense)              (None, 10)                1290      \n",
      "=================================================================\n",
      "Total params: 101,770\n",
      "Trainable params: 101,770\n",
      "Non-trainable params: 0\n",
      "_________________________________________________________________\n",
      "1875/1875 [==============================] - 5s 2ms/step - loss: 2.3345 - accuracy: 0.8567\n"
     ]
    },
    {
     "data": {
      "text/plain": [
       "<tensorflow.python.keras.callbacks.History at 0x7f2ae47d5160>"
      ]
     },
     "execution_count": 3,
     "metadata": {},
     "output_type": "execute_result"
    }
   ],
   "source": [
    "# Create the tf.data.Dataset from the existing data\n",
    "dataset = tf.data.Dataset.from_tensor_slices((x_train, y_train))\n",
    "\n",
    "# By default you 'run out of data', this is why you repeat the dataset and serve data in batches. \n",
    "dataset = dataset.repeat().batch(BATCH_SIZE)\n",
    "\n",
    "# Train for one epoch to verify this works. \n",
    "model = get_and_compile_model()\n",
    "model.fit(dataset,steps_per_epoch=STEPS_PER_EPOCH )\n"
   ]
  },
  {
   "cell_type": "markdown",
   "metadata": {},
   "source": [
    "## Method 2: Using a generator\n",
    "If you still have to load or adjust data it's easy to create a generator which becomes a dataset. \n",
    "\n",
    "A common error to get here is `ValueError: When providing an infinite dataset, you must specify the number of steps to run.`. Make sure you specify this by setting `steps_per_epoch` to the number of batches you want to supply during training. Normally this number of batches should roughly cover the entire dataset.\n",
    "\n",
    "Another common error is `TypeError: 'generator' must be callable.`. When creating a generator you can't pass anything to this generator. This requires a bit of Python puzzling to realize that you can pass the arguments to a function, which then creates an argument-free generator inside this function with the arguments you passed to the first function. The result can be seen below. "
   ]
  },
  {
   "cell_type": "code",
   "execution_count": 4,
   "metadata": {},
   "outputs": [
    {
     "name": "stdout",
     "output_type": "stream",
     "text": [
      "Model: \"sequential_2\"\n",
      "_________________________________________________________________\n",
      "Layer (type)                 Output Shape              Param #   \n",
      "=================================================================\n",
      "flatten_2 (Flatten)          (None, 784)               0         \n",
      "_________________________________________________________________\n",
      "dense_4 (Dense)              (None, 128)               100480    \n",
      "_________________________________________________________________\n",
      "dense_5 (Dense)              (None, 10)                1290      \n",
      "=================================================================\n",
      "Total params: 101,770\n",
      "Trainable params: 101,770\n",
      "Non-trainable params: 0\n",
      "_________________________________________________________________\n",
      "1875/1875 [==============================] - 22s 12ms/step - loss: 2.5669 - accuracy: 0.8523\n"
     ]
    },
    {
     "data": {
      "text/plain": [
       "<tensorflow.python.keras.callbacks.History at 0x7f2ae47322b0>"
      ]
     },
     "execution_count": 4,
     "metadata": {},
     "output_type": "execute_result"
    }
   ],
   "source": [
    "# Create the argument-free generator as function inside a function with arguments. \n",
    "def create_dataset_generator(inputs, labels):\n",
    "    def argument_free_generator():\n",
    "        for inp, label in zip(inputs, labels):\n",
    "            yield inp, label\n",
    "    return argument_free_generator\n",
    "\n",
    "# Create the generator which yields inputs and outputs\n",
    "generator = create_dataset_generator(x_train, y_train)\n",
    "\n",
    "# Create the tf.data.Dataset from this generator and specify the types and shapes of the data. \n",
    "dataset = tf.data.Dataset.from_generator(generator, (tf.float32, tf.int32), ((28,28 ), ()))\n",
    "\n",
    "# By default you 'run out of data', this is why you repeat the dataset and serve data in batches. \n",
    "dataset = dataset.repeat().batch(BATCH_SIZE)\n",
    "\n",
    "# Train for one epoch to verify this works. \n",
    "model = get_and_compile_model()\n",
    "model.fit(dataset,steps_per_epoch=STEPS_PER_EPOCH )\n"
   ]
  },
  {
   "cell_type": "markdown",
   "metadata": {},
   "source": [
    "## Verifying your dataset\n",
    "It's a bit hard to verify that your dataset is still working as expected. Luckily there are methods, such as `dataset.as_numpy_iterator` which allow you to inspect and verify your data. Here is an example on how to use this:"
   ]
  },
  {
   "cell_type": "code",
   "execution_count": 5,
   "metadata": {},
   "outputs": [
    {
     "name": "stdout",
     "output_type": "stream",
     "text": [
      "Input shape is: (32, 28, 28) output shape is: (32,)\n"
     ]
    },
    {
     "data": {
      "image/png": "[encoded data removed]",
      "text/plain": [
       "<Figure size 432x288 with 1 Axes>"
      ]
     },
     "metadata": {
      "needs_background": "light"
     },
     "output_type": "display_data"
    },
    {
     "name": "stdout",
     "output_type": "stream",
     "text": [
      "label of this input is 5\n"
     ]
    }
   ],
   "source": [
    "import matplotlib.pyplot as plt\n",
    "\n",
    "for inputs, outputs in dataset.as_numpy_iterator():\n",
    "    # Verify the shapes are still as we expect\n",
    "    print(\"Input shape is:\", inputs.shape, \"output shape is:\", outputs.shape)\n",
    "\n",
    "    # Print the first element and the label\n",
    "    plt.imshow(inputs[0,:])\n",
    "    plt.show()\n",
    "    print('label of this input is', outputs[0])\n",
    "    \n",
    "    # Break now. We only want to visualise the first example\n",
    "    break"
   ]
  },
  {
   "cell_type": "markdown",
   "metadata": {},
   "source": [
    "## Split the dataset into a train and test set. \n",
    "Sometimes you don't have a clear train and test set, or you want to train with only a subset of your training data and use the rest to validate your initial approach. \n",
    "\n",
    "Note that when supplieing any dataset you have to give the length, otherwise you get a `ValueError: When providing an infinite dataset, you must specify the number of steps to run.` message. \n"
   ]
  },
  {
   "cell_type": "code",
   "execution_count": 13,
   "metadata": {},
   "outputs": [
    {
     "name": "stdout",
     "output_type": "stream",
     "text": [
      "Model: \"sequential_6\"\n",
      "_________________________________________________________________\n",
      "Layer (type)                 Output Shape              Param #   \n",
      "=================================================================\n",
      "flatten_6 (Flatten)          (None, 784)               0         \n",
      "_________________________________________________________________\n",
      "dense_12 (Dense)             (None, 128)               100480    \n",
      "_________________________________________________________________\n",
      "dense_13 (Dense)             (None, 10)                1290      \n",
      "=================================================================\n",
      "Total params: 101,770\n",
      "Trainable params: 101,770\n",
      "Non-trainable params: 0\n",
      "_________________________________________________________________\n",
      "1500/1500 [==============================] - 5s 3ms/step - loss: 2.5344 - accuracy: 0.8323 - val_loss: 0.4840 - val_accuracy: 0.8849\n"
     ]
    },
    {
     "data": {
      "text/plain": [
       "<tensorflow.python.keras.callbacks.History at 0x7f2ab8b66860>"
      ]
     },
     "execution_count": 13,
     "metadata": {},
     "output_type": "execute_result"
    }
   ],
   "source": [
    "# Create the tf.data.Dataset from the existing data\n",
    "dataset = tf.data.Dataset.from_tensor_slices((x_train, y_train))\n",
    "\n",
    "# Split the data into a train and a test set.\n",
    "SAMPLES_TRAINING = int(len(x_train)*0.8)\n",
    "train_dataset = dataset.take(SAMPLES_TRAINING)\n",
    "test_dataset = dataset.skip(SAMPLES_TRAINING)\n",
    "\n",
    "# Both datasets have to be repeated and batched appropriately\n",
    "train_dataset = train_dataset.repeat().batch(BATCH_SIZE)\n",
    "test_dataset = test_dataset.repeat().batch(BATCH_SIZE)\n",
    "\n",
    "\n",
    "# Train for one epoch to verify this works. Note you now have to adjust the steps_per_epoch to reflect the new dataset. \n",
    "model = get_and_compile_model()\n",
    "model.fit(train_dataset,\n",
    "          validation_data=test_dataset,\n",
    "          steps_per_epoch=(len(x_train)*0.8)//BATCH_SIZE, \n",
    "          validation_steps= (len(x_train)*0.2)//BATCH_SIZE)"
   ]
  },
  {
   "cell_type": "markdown",
   "metadata": {},
   "source": [
    "## Conclusion\n",
    "You now saw two examples on how to load data into the tf.data.Dataset format. You hopefully also noticed that having data in memory is faster than having the data being loaded by a generator. \n",
    "The examples in this Jupyter Notebook showed you how to properly combine TensorFlows Dataset API and Keras. You now also know how to split a tf.data.Dataset into a train and a test set. \n",
    "\n"
   ]
  }
 ],
 "metadata": {
  "kernelspec": {
   "display_name": "Python 3",
   "language": "python",
   "name": "python3"
  },
  "language_info": {
   "codemirror_mode": {
    "name": "ipython",
    "version": 3
   },
   "file_extension": ".py",
   "mimetype": "text/x-python",
   "name": "python",
   "nbconvert_exporter": "python",
   "pygments_lexer": "ipython3",
   "version": "3.6.9"
  }
 },
 "nbformat": 4,
 "nbformat_minor": 2
}
